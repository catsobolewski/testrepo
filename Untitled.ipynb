{
 "cells": [
  {
   "cell_type": "markdown",
   "id": "1c569151-ef2a-4d30-bf7f-9b1150463d85",
   "metadata": {},
   "source": [
    "# My Jupyter Notebook on IBM Watson Studio"
   ]
  },
  {
   "cell_type": "markdown",
   "id": "9bfdaa7e-3da3-4d91-8719-5e4708aaf115",
   "metadata": {},
   "source": [
    "**Catherine Sobolewski**  \n",
    "Tax Analyst"
   ]
  },
  {
   "cell_type": "markdown",
   "id": "450df9ea-5faa-4631-99b7-19ab6b732650",
   "metadata": {},
   "source": [
    "*I am interested in data science because I want to use technology to organize data.*"
   ]
  },
  {
   "cell_type": "markdown",
   "id": "37d3dba0-21dc-4508-8e94-ccf7d9e148bf",
   "metadata": {},
   "source": [
    "### My code in cell 5 is supposed to add 1 plus 1."
   ]
  },
  {
   "cell_type": "code",
   "execution_count": 2,
   "id": "f61d62b5-9c30-450e-9a96-5932aca2359f",
   "metadata": {},
   "outputs": [
    {
     "data": {
      "text/plain": [
       "2"
      ]
     },
     "execution_count": 2,
     "metadata": {},
     "output_type": "execute_result"
    }
   ],
   "source": [
    "1+1"
   ]
  },
  {
   "cell_type": "markdown",
   "id": "1bb887a3-2ade-46db-bf5d-e6a6e4872fb4",
   "metadata": {},
   "source": [
    "***I am trying to show these 3 attributes:*** \n",
    "1. Horizontal rule\n",
    "2. ~~Strikethrough~~\n",
    "3. <http://github.com>, an example of a link\n",
    "4. Numbered List"
   ]
  },
  {
   "cell_type": "code",
   "execution_count": null,
   "id": "26e1b79f-9b80-4dfd-8531-d2b46c79cfba",
   "metadata": {},
   "outputs": [],
   "source": []
  }
 ],
 "metadata": {
  "kernelspec": {
   "display_name": "Python 3 (ipykernel)",
   "language": "python",
   "name": "python3"
  },
  "language_info": {
   "codemirror_mode": {
    "name": "ipython",
    "version": 3
   },
   "file_extension": ".py",
   "mimetype": "text/x-python",
   "name": "python",
   "nbconvert_exporter": "python",
   "pygments_lexer": "ipython3",
   "version": "3.10.5"
  }
 },
 "nbformat": 4,
 "nbformat_minor": 5
}
